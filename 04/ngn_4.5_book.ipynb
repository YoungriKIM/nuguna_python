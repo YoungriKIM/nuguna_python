{
 "cells": [
  {
   "cell_type": "code",
   "execution_count": 2,
   "metadata": {},
   "outputs": [],
   "source": [
    "# 이번 검색 결과는 검색 결과 출력 건수, 시작 위치, 종류 등을 선택 할 수 있으니 url을 더 디테일하게 만들어주어야 한다."
   ]
  },
  {
   "cell_type": "code",
   "execution_count": 3,
   "metadata": {},
   "outputs": [],
   "source": [
    "import urllib.request\n",
    "import json\n",
    "import pandas as pd"
   ]
  },
  {
   "cell_type": "code",
   "execution_count": 4,
   "metadata": {},
   "outputs": [],
   "source": [
    "book_url = 'https://openapi.naver.com/v1/search/book.json'\n",
    "url_base = 'https://openapi.naver.com/v1/search'"
   ]
  },
  {
   "cell_type": "code",
   "execution_count": 5,
   "metadata": {},
   "outputs": [],
   "source": [
    "# 사용할 함수를 만들자\n",
    "def create_url(api_node, search_text, start_num, disp_num):\n",
    "    base = url_base\n",
    "    node = '/' + api_node + '.json'\n",
    "    param_query = '?query=' + urllib.parse.quote(search_text)\n",
    "    param_start = '&start=' + str(start_num)\n",
    "    param_disp = '&display=' + str(disp_num)\n",
    "    \n",
    "    return base + node + param_query + param_start + param_disp"
   ]
  },
  {
   "cell_type": "code",
   "execution_count": 6,
   "metadata": {},
   "outputs": [
    {
     "data": {
      "text/plain": [
       "'https://openapi.naver.com/v1/search/book.json?query=TEST&start=1&display=10'"
      ]
     },
     "execution_count": 6,
     "metadata": {},
     "output_type": "execute_result"
    }
   ],
   "source": [
    "create_url('book', 'TEST', 1, 10)"
   ]
  },
  {
   "cell_type": "code",
   "execution_count": 7,
   "metadata": {},
   "outputs": [
    {
     "data": {
      "text/plain": [
       "{'lastBuildDate': 'Sun, 09 Jan 2022 19:32:29 +0900',\n",
       " 'total': 1442,\n",
       " 'start': 1,\n",
       " 'display': 3,\n",
       " 'items': [{'title': '이것이 취업을 위한 코딩 테스트다 with <b>파이썬</b> (취업과 이직을 결정하는 알고리즘 인터뷰 완벽 가이드)',\n",
       "   'link': 'http://book.naver.com/bookdb/book_detail.php?bid=16439154',\n",
       "   'image': 'https://bookthumb-phinf.pstatic.net/cover/164/391/16439154.jpg?type=m1&udate=20200928',\n",
       "   'author': '나동빈',\n",
       "   'price': '34000',\n",
       "   'discount': '30600',\n",
       "   'publisher': '한빛미디어',\n",
       "   'pubdate': '20200805',\n",
       "   'isbn': '1162243074 9791162243077',\n",
       "   'description': '8가지 핵심 알고리즘 이론을 쉽게 설명하고, 관련 실전 문제를 풀이했다. 출제 유형 분석, 이론 설명, 기출문제 풀이까지! 어떤 코딩 테스트도 이 책 한 권으로 대비할 수 있을 것이다. 코딩 테스트에서 주로 선택하는 <b>파이썬</b>을 기반으로 설명되어 있으며, <b>파이썬</b> 코드 외에도 C/C++, 자바 코드를 추가로 제공한다.'},\n",
       "  {'title': '혼자 공부하는 <b>파이썬</b> (<b>파이썬</b> 최신 버전 반영)',\n",
       "   'link': 'http://book.naver.com/bookdb/book_detail.php?bid=15028688',\n",
       "   'image': 'https://bookthumb-phinf.pstatic.net/cover/150/286/15028688.jpg?type=m1&udate=20220105',\n",
       "   'author': '윤인성',\n",
       "   'price': '18000',\n",
       "   'discount': '16200',\n",
       "   'publisher': '한빛미디어',\n",
       "   'pubdate': '20190610',\n",
       "   'isbn': '1162241888 9791162241882',\n",
       "   'description': '1:1 과외하듯 배우는 <b>파이썬</b> 프로그래밍 자습서(<b>파이썬</b> 최신 버전 반영)\\n27명의 베타리더 검증으로, ‘함께 만든’ 입문자 맞춤형 도서\\n\\n이 책은 독학으로 프로그래밍 언어를 처음 배우려는 입문자가, 혹은 <b>파이썬</b>을 배우려는 입문자가 ‘꼭 필요한 내용을 제대로’ 학습할 수 있도록 구성했다. ‘무엇을’... '},\n",
       "  {'title': 'Do it! 점프 투 <b>파이썬</b>',\n",
       "   'link': 'http://book.naver.com/bookdb/book_detail.php?bid=15052904',\n",
       "   'image': 'https://bookthumb-phinf.pstatic.net/cover/150/529/15052904.jpg?type=m1&udate=20200910',\n",
       "   'author': '박응용',\n",
       "   'price': '18800',\n",
       "   'discount': '16900',\n",
       "   'publisher': '이지스퍼블리싱',\n",
       "   'pubdate': '20190620',\n",
       "   'isbn': '1163030910 9791163030911',\n",
       "   'description': '<b>파이썬</b> 4년 연속 베스트셀러 1위!\\n《DO IT! 점프 투 <b>파이썬</b>》 전면 개정판 출시!문과생도 중고등학생도 직장인도 프로그래밍에 눈뜨게 만든 바로 그 책이... 점프 투 <b>파이썬</b>》으로 출간되었던 이 책은 약 4년 동안의 피드백을 반영하여 초보자가 더 빠르게 입문하고, 더 깊이 있게 공부할 수 있도록 개정되었다.... '}]}"
      ]
     },
     "execution_count": 7,
     "metadata": {},
     "output_type": "execute_result"
    }
   ],
   "source": [
    "# 실제로 사용할 준비를 하자\n",
    "\n",
    "client_id = 'z_wzqr407Cxx_3A_6TjA'\n",
    "client_secret = 'cqZ20xcmGW'\n",
    "\n",
    "url = create_url('book', '파이썬', 1, 3)    # 1부터 3개까지만 표시해라\n",
    "\n",
    "# 만들어진 url을 쏘기\n",
    "request = urllib.request.Request(url)\n",
    "request.add_header('X-Naver-Client-Id', client_id)\n",
    "request.add_header('X-Naver-Client-Secret', client_secret)\n",
    "\n",
    "response = urllib.request.urlopen(request)\n",
    "\n",
    "# 결과를 받아오자\n",
    "result = json.loads(response.read().decode('utf-8'))\n",
    "result"
   ]
  },
  {
   "cell_type": "code",
   "execution_count": 8,
   "metadata": {},
   "outputs": [
    {
     "data": {
      "text/plain": [
       "3"
      ]
     },
     "execution_count": 8,
     "metadata": {},
     "output_type": "execute_result"
    }
   ],
   "source": [
    "# 몇 건의 결과를 불러왔는가?\n",
    "result['display']"
   ]
  },
  {
   "cell_type": "code",
   "execution_count": 9,
   "metadata": {},
   "outputs": [
    {
     "data": {
      "text/plain": [
       "[{'title': '이것이 취업을 위한 코딩 테스트다 with <b>파이썬</b> (취업과 이직을 결정하는 알고리즘 인터뷰 완벽 가이드)',\n",
       "  'link': 'http://book.naver.com/bookdb/book_detail.php?bid=16439154',\n",
       "  'image': 'https://bookthumb-phinf.pstatic.net/cover/164/391/16439154.jpg?type=m1&udate=20200928',\n",
       "  'author': '나동빈',\n",
       "  'price': '34000',\n",
       "  'discount': '30600',\n",
       "  'publisher': '한빛미디어',\n",
       "  'pubdate': '20200805',\n",
       "  'isbn': '1162243074 9791162243077',\n",
       "  'description': '8가지 핵심 알고리즘 이론을 쉽게 설명하고, 관련 실전 문제를 풀이했다. 출제 유형 분석, 이론 설명, 기출문제 풀이까지! 어떤 코딩 테스트도 이 책 한 권으로 대비할 수 있을 것이다. 코딩 테스트에서 주로 선택하는 <b>파이썬</b>을 기반으로 설명되어 있으며, <b>파이썬</b> 코드 외에도 C/C++, 자바 코드를 추가로 제공한다.'},\n",
       " {'title': '혼자 공부하는 <b>파이썬</b> (<b>파이썬</b> 최신 버전 반영)',\n",
       "  'link': 'http://book.naver.com/bookdb/book_detail.php?bid=15028688',\n",
       "  'image': 'https://bookthumb-phinf.pstatic.net/cover/150/286/15028688.jpg?type=m1&udate=20220105',\n",
       "  'author': '윤인성',\n",
       "  'price': '18000',\n",
       "  'discount': '16200',\n",
       "  'publisher': '한빛미디어',\n",
       "  'pubdate': '20190610',\n",
       "  'isbn': '1162241888 9791162241882',\n",
       "  'description': '1:1 과외하듯 배우는 <b>파이썬</b> 프로그래밍 자습서(<b>파이썬</b> 최신 버전 반영)\\n27명의 베타리더 검증으로, ‘함께 만든’ 입문자 맞춤형 도서\\n\\n이 책은 독학으로 프로그래밍 언어를 처음 배우려는 입문자가, 혹은 <b>파이썬</b>을 배우려는 입문자가 ‘꼭 필요한 내용을 제대로’ 학습할 수 있도록 구성했다. ‘무엇을’... '},\n",
       " {'title': 'Do it! 점프 투 <b>파이썬</b>',\n",
       "  'link': 'http://book.naver.com/bookdb/book_detail.php?bid=15052904',\n",
       "  'image': 'https://bookthumb-phinf.pstatic.net/cover/150/529/15052904.jpg?type=m1&udate=20200910',\n",
       "  'author': '박응용',\n",
       "  'price': '18800',\n",
       "  'discount': '16900',\n",
       "  'publisher': '이지스퍼블리싱',\n",
       "  'pubdate': '20190620',\n",
       "  'isbn': '1163030910 9791163030911',\n",
       "  'description': '<b>파이썬</b> 4년 연속 베스트셀러 1위!\\n《DO IT! 점프 투 <b>파이썬</b>》 전면 개정판 출시!문과생도 중고등학생도 직장인도 프로그래밍에 눈뜨게 만든 바로 그 책이... 점프 투 <b>파이썬</b>》으로 출간되었던 이 책은 약 4년 동안의 피드백을 반영하여 초보자가 더 빠르게 입문하고, 더 깊이 있게 공부할 수 있도록 개정되었다.... '}]"
      ]
     },
     "execution_count": 9,
     "metadata": {},
     "output_type": "execute_result"
    }
   ],
   "source": [
    "# 실제 검색 결과를 확인해보자\n",
    "result['items']"
   ]
  },
  {
   "cell_type": "code",
   "execution_count": 10,
   "metadata": {},
   "outputs": [
    {
     "data": {
      "text/plain": [
       "['이것이 취업을 위한 코딩 테스트다 with <b>파이썬</b> (취업과 이직을 결정하는 알고리즘 인터뷰 완벽 가이드)',\n",
       " '혼자 공부하는 <b>파이썬</b> (<b>파이썬</b> 최신 버전 반영)',\n",
       " 'Do it! 점프 투 <b>파이썬</b>']"
      ]
     },
     "execution_count": 10,
     "metadata": {},
     "output_type": "execute_result"
    }
   ],
   "source": [
    "# 검색 결과에서 제목만 알고싶다면?\n",
    "titles = [result['items'][n]['title'] for n in range(3)]\n",
    "titles"
   ]
  },
  {
   "cell_type": "code",
   "execution_count": 11,
   "metadata": {},
   "outputs": [
    {
     "name": "stdout",
     "output_type": "stream",
     "text": [
      "['나동빈', '윤인성', '박응용']\n",
      "['20200805', '20190610', '20190620']\n"
     ]
    }
   ],
   "source": [
    "# 작가, 출판일 정보까지 가져오자\n",
    "authors = [result['items'][n]['author'] for n in range(3)]\n",
    "print(authors)\n",
    "pubdates = [result['items'][n]['pubdate'] for n in range(3)]\n",
    "print(pubdates)"
   ]
  },
  {
   "cell_type": "code",
   "execution_count": 12,
   "metadata": {},
   "outputs": [
    {
     "data": {
      "text/html": [
       "<div>\n",
       "<style scoped>\n",
       "    .dataframe tbody tr th:only-of-type {\n",
       "        vertical-align: middle;\n",
       "    }\n",
       "\n",
       "    .dataframe tbody tr th {\n",
       "        vertical-align: top;\n",
       "    }\n",
       "\n",
       "    .dataframe thead th {\n",
       "        text-align: right;\n",
       "    }\n",
       "</style>\n",
       "<table border=\"1\" class=\"dataframe\">\n",
       "  <thead>\n",
       "    <tr style=\"text-align: right;\">\n",
       "      <th></th>\n",
       "      <th>책제목</th>\n",
       "      <th>작가</th>\n",
       "      <th>출판일</th>\n",
       "    </tr>\n",
       "  </thead>\n",
       "  <tbody>\n",
       "    <tr>\n",
       "      <th>0</th>\n",
       "      <td>이것이 취업을 위한 코딩 테스트다 with &lt;b&gt;파이썬&lt;/b&gt; (취업과 이직을 결정...</td>\n",
       "      <td>나동빈</td>\n",
       "      <td>20200805</td>\n",
       "    </tr>\n",
       "    <tr>\n",
       "      <th>1</th>\n",
       "      <td>혼자 공부하는 &lt;b&gt;파이썬&lt;/b&gt; (&lt;b&gt;파이썬&lt;/b&gt; 최신 버전 반영)</td>\n",
       "      <td>윤인성</td>\n",
       "      <td>20190610</td>\n",
       "    </tr>\n",
       "    <tr>\n",
       "      <th>2</th>\n",
       "      <td>Do it! 점프 투 &lt;b&gt;파이썬&lt;/b&gt;</td>\n",
       "      <td>박응용</td>\n",
       "      <td>20190620</td>\n",
       "    </tr>\n",
       "  </tbody>\n",
       "</table>\n",
       "</div>"
      ],
      "text/plain": [
       "                                                 책제목   작가       출판일\n",
       "0  이것이 취업을 위한 코딩 테스트다 with <b>파이썬</b> (취업과 이직을 결정...  나동빈  20200805\n",
       "1           혼자 공부하는 <b>파이썬</b> (<b>파이썬</b> 최신 버전 반영)  윤인성  20190610\n",
       "2                             Do it! 점프 투 <b>파이썬</b>  박응용  20190620"
      ]
     },
     "execution_count": 12,
     "metadata": {},
     "output_type": "execute_result"
    }
   ],
   "source": [
    "# 판다스로 dataframe 으로 만들자\n",
    "\n",
    "pd.DataFrame({'책제목':titles, '작가':authors, '출판일':pubdates})"
   ]
  },
  {
   "cell_type": "code",
   "execution_count": 13,
   "metadata": {},
   "outputs": [],
   "source": [
    "# 이 모든 과정을 수행하는 함수를 만들자\n",
    "\n",
    "def get_dataframe(url):\n",
    "    client_id = 'z_wzqr407Cxx_3A_6TjA'\n",
    "    client_secret = 'cqZ20xcmGW'\n",
    "    \n",
    "    request = urllib.request.Request(url)\n",
    "    request.add_header('X-Naver-Client-Id', client_id)\n",
    "    request.add_header('X-Naver-Client-Secret', client_secret)\n",
    "    \n",
    "    response = urllib.request.urlopen(request)\n",
    "    \n",
    "    result = json.loads(response.read().decode('utf-8'))\n",
    "    \n",
    "    end_num = result['display']\n",
    "    \n",
    "    titles = [result['items'][n]['title'] for n in range(end_num)]\n",
    "    authors = [result['items'][n]['author'] for n in range(end_num)]\n",
    "    pubdates = [result['items'][n]['pubdate'] for n in range(end_num)]\n",
    "    \n",
    "    return pd.DataFrame({'책제목':titles, '작가':authors, '출판일':pubdates})"
   ]
  },
  {
   "cell_type": "code",
   "execution_count": 14,
   "metadata": {},
   "outputs": [
    {
     "data": {
      "text/html": [
       "<div>\n",
       "<style scoped>\n",
       "    .dataframe tbody tr th:only-of-type {\n",
       "        vertical-align: middle;\n",
       "    }\n",
       "\n",
       "    .dataframe tbody tr th {\n",
       "        vertical-align: top;\n",
       "    }\n",
       "\n",
       "    .dataframe thead th {\n",
       "        text-align: right;\n",
       "    }\n",
       "</style>\n",
       "<table border=\"1\" class=\"dataframe\">\n",
       "  <thead>\n",
       "    <tr style=\"text-align: right;\">\n",
       "      <th></th>\n",
       "      <th>책제목</th>\n",
       "      <th>작가</th>\n",
       "      <th>출판일</th>\n",
       "    </tr>\n",
       "  </thead>\n",
       "  <tbody>\n",
       "    <tr>\n",
       "      <th>0</th>\n",
       "      <td>이것이 취업을 위한 코딩 테스트다 with &lt;b&gt;파이썬&lt;/b&gt; (취업과 이직을 결정...</td>\n",
       "      <td>나동빈</td>\n",
       "      <td>20200805</td>\n",
       "    </tr>\n",
       "    <tr>\n",
       "      <th>1</th>\n",
       "      <td>혼자 공부하는 &lt;b&gt;파이썬&lt;/b&gt; (&lt;b&gt;파이썬&lt;/b&gt; 최신 버전 반영)</td>\n",
       "      <td>윤인성</td>\n",
       "      <td>20190610</td>\n",
       "    </tr>\n",
       "    <tr>\n",
       "      <th>2</th>\n",
       "      <td>Do it! 점프 투 &lt;b&gt;파이썬&lt;/b&gt;</td>\n",
       "      <td>박응용</td>\n",
       "      <td>20190620</td>\n",
       "    </tr>\n",
       "  </tbody>\n",
       "</table>\n",
       "</div>"
      ],
      "text/plain": [
       "                                                 책제목   작가       출판일\n",
       "0  이것이 취업을 위한 코딩 테스트다 with <b>파이썬</b> (취업과 이직을 결정...  나동빈  20200805\n",
       "1           혼자 공부하는 <b>파이썬</b> (<b>파이썬</b> 최신 버전 반영)  윤인성  20190610\n",
       "2                             Do it! 점프 투 <b>파이썬</b>  박응용  20190620"
      ]
     },
     "execution_count": 14,
     "metadata": {},
     "output_type": "execute_result"
    }
   ],
   "source": [
    "# 이전에 만들었던 url 만드는 함수 사용\n",
    "url = create_url('book', '파이썬', 1, 3) \n",
    "\n",
    "# 그 url을 이용해서 dataframe 만들기\n",
    "get_dataframe(url)"
   ]
  },
  {
   "cell_type": "code",
   "execution_count": 15,
   "metadata": {},
   "outputs": [],
   "source": [
    "# 그런데 책 제목에 <b> 가 보인다. 검색 키워드를 bold 로 강조한 모양이다. 이를 삭제해주자\n",
    "def delete_tag(input_str):\n",
    "    input_str = input_str.replace('<b>', '')\n",
    "    input_str = input_str.replace('</b>', '')\n",
    "    return input_str"
   ]
  },
  {
   "cell_type": "code",
   "execution_count": 16,
   "metadata": {},
   "outputs": [],
   "source": [
    "# 이 태그 삭제 함수를 위의 함수에 추가하자\n",
    "def get_dataframe(url):\n",
    "    client_id = 'z_wzqr407Cxx_3A_6TjA'\n",
    "    client_secret = 'cqZ20xcmGW'\n",
    "    \n",
    "    request = urllib.request.Request(url)\n",
    "    request.add_header('X-Naver-Client-Id', client_id)\n",
    "    request.add_header('X-Naver-Client-Secret', client_secret)\n",
    "    \n",
    "    response = urllib.request.urlopen(request)\n",
    "    \n",
    "    result = json.loads(response.read().decode('utf-8'))\n",
    "    \n",
    "    end_num = result['display']\n",
    "    \n",
    "    titles = [delete_tag(result['items'][n]['title']) for n in range(end_num)]  # 제목에만 적용해주면 된다\n",
    "    authors = [result['items'][n]['author'] for n in range(end_num)]\n",
    "    pubdates = [result['items'][n]['pubdate'] for n in range(end_num)]\n",
    "    \n",
    "    return pd.DataFrame({'책제목':titles, '작가':authors, '출판일':pubdates})"
   ]
  },
  {
   "cell_type": "code",
   "execution_count": 17,
   "metadata": {},
   "outputs": [
    {
     "data": {
      "text/html": [
       "<div>\n",
       "<style scoped>\n",
       "    .dataframe tbody tr th:only-of-type {\n",
       "        vertical-align: middle;\n",
       "    }\n",
       "\n",
       "    .dataframe tbody tr th {\n",
       "        vertical-align: top;\n",
       "    }\n",
       "\n",
       "    .dataframe thead th {\n",
       "        text-align: right;\n",
       "    }\n",
       "</style>\n",
       "<table border=\"1\" class=\"dataframe\">\n",
       "  <thead>\n",
       "    <tr style=\"text-align: right;\">\n",
       "      <th></th>\n",
       "      <th>책제목</th>\n",
       "      <th>작가</th>\n",
       "      <th>출판일</th>\n",
       "    </tr>\n",
       "  </thead>\n",
       "  <tbody>\n",
       "    <tr>\n",
       "      <th>0</th>\n",
       "      <td>이것이 취업을 위한 코딩 테스트다 with 파이썬 (취업과 이직을 결정하는 알고리즘...</td>\n",
       "      <td>나동빈</td>\n",
       "      <td>20200805</td>\n",
       "    </tr>\n",
       "    <tr>\n",
       "      <th>1</th>\n",
       "      <td>혼자 공부하는 파이썬 (파이썬 최신 버전 반영)</td>\n",
       "      <td>윤인성</td>\n",
       "      <td>20190610</td>\n",
       "    </tr>\n",
       "    <tr>\n",
       "      <th>2</th>\n",
       "      <td>Do it! 점프 투 파이썬</td>\n",
       "      <td>박응용</td>\n",
       "      <td>20190620</td>\n",
       "    </tr>\n",
       "  </tbody>\n",
       "</table>\n",
       "</div>"
      ],
      "text/plain": [
       "                                                 책제목   작가       출판일\n",
       "0  이것이 취업을 위한 코딩 테스트다 with 파이썬 (취업과 이직을 결정하는 알고리즘...  나동빈  20200805\n",
       "1                         혼자 공부하는 파이썬 (파이썬 최신 버전 반영)  윤인성  20190610\n",
       "2                                    Do it! 점프 투 파이썬  박응용  20190620"
      ]
     },
     "execution_count": 17,
     "metadata": {},
     "output_type": "execute_result"
    }
   ],
   "source": [
    "get_dataframe(url)"
   ]
  },
  {
   "cell_type": "code",
   "execution_count": 18,
   "metadata": {},
   "outputs": [
    {
     "data": {
      "text/plain": [
       "[1, 101, 201]"
      ]
     },
     "execution_count": 18,
     "metadata": {},
     "output_type": "execute_result"
    }
   ],
   "source": [
    "# 이제 300개의 결과를 얻을 것인데, 이 url에서는 한 번에 100개 display 가 최대이다. \n",
    "# 100씩 구간을 만들어보자\n",
    "[n for n in range(1,300,100)] # 을 이용하자"
   ]
  },
  {
   "cell_type": "code",
   "execution_count": 19,
   "metadata": {},
   "outputs": [],
   "source": [
    "result_search = []\n",
    "\n",
    "for n in range(1, 300, 100):\n",
    "    url = create_url('book', '파이썬', n, 100)\n",
    "    result_search.append(get_dataframe(url))\n",
    "    \n",
    "result_search = pd.concat(result_search)"
   ]
  },
  {
   "cell_type": "code",
   "execution_count": 20,
   "metadata": {},
   "outputs": [
    {
     "data": {
      "text/html": [
       "<div>\n",
       "<style scoped>\n",
       "    .dataframe tbody tr th:only-of-type {\n",
       "        vertical-align: middle;\n",
       "    }\n",
       "\n",
       "    .dataframe tbody tr th {\n",
       "        vertical-align: top;\n",
       "    }\n",
       "\n",
       "    .dataframe thead th {\n",
       "        text-align: right;\n",
       "    }\n",
       "</style>\n",
       "<table border=\"1\" class=\"dataframe\">\n",
       "  <thead>\n",
       "    <tr style=\"text-align: right;\">\n",
       "      <th></th>\n",
       "      <th>책제목</th>\n",
       "      <th>작가</th>\n",
       "      <th>출판일</th>\n",
       "    </tr>\n",
       "  </thead>\n",
       "  <tbody>\n",
       "    <tr>\n",
       "      <th>0</th>\n",
       "      <td>이것이 취업을 위한 코딩 테스트다 with 파이썬 (취업과 이직을 결정하는 알고리즘...</td>\n",
       "      <td>나동빈</td>\n",
       "      <td>20200805</td>\n",
       "    </tr>\n",
       "    <tr>\n",
       "      <th>1</th>\n",
       "      <td>혼자 공부하는 파이썬 (파이썬 최신 버전 반영)</td>\n",
       "      <td>윤인성</td>\n",
       "      <td>20190610</td>\n",
       "    </tr>\n",
       "    <tr>\n",
       "      <th>2</th>\n",
       "      <td>Do it! 점프 투 파이썬</td>\n",
       "      <td>박응용</td>\n",
       "      <td>20190620</td>\n",
       "    </tr>\n",
       "    <tr>\n",
       "      <th>3</th>\n",
       "      <td>파이썬 알고리즘 인터뷰 (95가지 알고리즘 문제 풀이로 완성하는 코딩 테스트)</td>\n",
       "      <td>박상길</td>\n",
       "      <td>20200715</td>\n",
       "    </tr>\n",
       "    <tr>\n",
       "      <th>4</th>\n",
       "      <td>쉽게 따라 만드는 파이썬 주식 자동매매 시스템 (증권사 API 사용, 매매전략 구현...</td>\n",
       "      <td>박준성</td>\n",
       "      <td>20211014</td>\n",
       "    </tr>\n",
       "    <tr>\n",
       "      <th>...</th>\n",
       "      <td>...</td>\n",
       "      <td>...</td>\n",
       "      <td>...</td>\n",
       "    </tr>\n",
       "    <tr>\n",
       "      <th>95</th>\n",
       "      <td>파이썬 활용 산업응용수학의 기본</td>\n",
       "      <td>김준석|김상권|이채영|정다래|최용호</td>\n",
       "      <td>20200910</td>\n",
       "    </tr>\n",
       "    <tr>\n",
       "      <th>96</th>\n",
       "      <td>씽크 파이썬 (컴퓨터 과학자처럼 생각하며 배우는 파이썬,Think Python)</td>\n",
       "      <td>앨런 다우니</td>\n",
       "      <td>20171012</td>\n",
       "    </tr>\n",
       "    <tr>\n",
       "      <th>97</th>\n",
       "      <td>비공대생을 위한 코딩 첫걸음 with 파이썬</td>\n",
       "      <td>김일민|홍희경|유상미|노은희</td>\n",
       "      <td>20200901</td>\n",
       "    </tr>\n",
       "    <tr>\n",
       "      <th>98</th>\n",
       "      <td>파이썬을 활용한 스파크 프로그래밍 (빅데이터 분석을 위한 파이썬,스파크 활용법)</td>\n",
       "      <td>제프리 에이븐</td>\n",
       "      <td>20190828</td>\n",
       "    </tr>\n",
       "    <tr>\n",
       "      <th>99</th>\n",
       "      <td>파이썬과 함께 하는 수학 어드벤처 (파이썬과 프로세싱으로 수학 개념 이해하기)</td>\n",
       "      <td>피터 파렐</td>\n",
       "      <td>20200115</td>\n",
       "    </tr>\n",
       "  </tbody>\n",
       "</table>\n",
       "<p>300 rows × 3 columns</p>\n",
       "</div>"
      ],
      "text/plain": [
       "                                                  책제목                   작가  \\\n",
       "0   이것이 취업을 위한 코딩 테스트다 with 파이썬 (취업과 이직을 결정하는 알고리즘...                  나동빈   \n",
       "1                          혼자 공부하는 파이썬 (파이썬 최신 버전 반영)                  윤인성   \n",
       "2                                     Do it! 점프 투 파이썬                  박응용   \n",
       "3         파이썬 알고리즘 인터뷰 (95가지 알고리즘 문제 풀이로 완성하는 코딩 테스트)                  박상길   \n",
       "4   쉽게 따라 만드는 파이썬 주식 자동매매 시스템 (증권사 API 사용, 매매전략 구현...                  박준성   \n",
       "..                                                ...                  ...   \n",
       "95                                  파이썬 활용 산업응용수학의 기본  김준석|김상권|이채영|정다래|최용호   \n",
       "96       씽크 파이썬 (컴퓨터 과학자처럼 생각하며 배우는 파이썬,Think Python)               앨런 다우니   \n",
       "97                           비공대생을 위한 코딩 첫걸음 with 파이썬      김일민|홍희경|유상미|노은희   \n",
       "98       파이썬을 활용한 스파크 프로그래밍 (빅데이터 분석을 위한 파이썬,스파크 활용법)              제프리 에이븐   \n",
       "99        파이썬과 함께 하는 수학 어드벤처 (파이썬과 프로세싱으로 수학 개념 이해하기)                피터 파렐   \n",
       "\n",
       "         출판일  \n",
       "0   20200805  \n",
       "1   20190610  \n",
       "2   20190620  \n",
       "3   20200715  \n",
       "4   20211014  \n",
       "..       ...  \n",
       "95  20200910  \n",
       "96  20171012  \n",
       "97  20200901  \n",
       "98  20190828  \n",
       "99  20200115  \n",
       "\n",
       "[300 rows x 3 columns]"
      ]
     },
     "execution_count": 20,
     "metadata": {},
     "output_type": "execute_result"
    }
   ],
   "source": [
    "result_search"
   ]
  },
  {
   "cell_type": "code",
   "execution_count": 21,
   "metadata": {},
   "outputs": [
    {
     "name": "stdout",
     "output_type": "stream",
     "text": [
      "<class 'pandas.core.frame.DataFrame'>\n",
      "Int64Index: 300 entries, 0 to 99\n",
      "Data columns (total 3 columns):\n",
      " #   Column  Non-Null Count  Dtype \n",
      "---  ------  --------------  ----- \n",
      " 0   책제목     300 non-null    object\n",
      " 1   작가      300 non-null    object\n",
      " 2   출판일     300 non-null    object\n",
      "dtypes: object(3)\n",
      "memory usage: 9.4+ KB\n"
     ]
    }
   ],
   "source": [
    "# 데이터가 잘 들어왔는데 .info() 로 확인해보자\n",
    "result_search.info()\n",
    "\n",
    "# index가 0 to 99 이다. reset_index로 정렬해주자\""
   ]
  },
  {
   "cell_type": "code",
   "execution_count": 22,
   "metadata": {},
   "outputs": [
    {
     "name": "stdout",
     "output_type": "stream",
     "text": [
      "<class 'pandas.core.frame.DataFrame'>\n",
      "RangeIndex: 300 entries, 0 to 299\n",
      "Data columns (total 3 columns):\n",
      " #   Column  Non-Null Count  Dtype \n",
      "---  ------  --------------  ----- \n",
      " 0   책제목     300 non-null    object\n",
      " 1   작가      300 non-null    object\n",
      " 2   출판일     300 non-null    object\n",
      "dtypes: object(3)\n",
      "memory usage: 7.2+ KB\n"
     ]
    }
   ],
   "source": [
    "result_search.reset_index(drop=True, inplace=True)\n",
    "result_search.info()"
   ]
  },
  {
   "cell_type": "code",
   "execution_count": 23,
   "metadata": {},
   "outputs": [],
   "source": [
    "# 엑셀에 저장하기\n",
    "# xlsxwriter 모듈을 다운받아 엑셀로 저장하자\n",
    "# !pip install xlsxwriter\n",
    "import xlsxwriter"
   ]
  },
  {
   "cell_type": "code",
   "execution_count": 25,
   "metadata": {},
   "outputs": [
    {
     "name": "stdout",
     "output_type": "stream",
     "text": [
      "---save done---\n"
     ]
    }
   ],
   "source": [
    "writer = pd.ExcelWriter('D:/nuguna_python-1/data/04_data/python_book_info.xlsx', engine='xlsxwriter')\n",
    "result_search.to_excel(writer, sheet_name='Sheet1')\n",
    "\n",
    "workbook = writer.book\n",
    "worksheet = writer.sheets['Sheet1']\n",
    "\n",
    "format_center = workbook.add_format({'text_wrap':True}) # 자동 줄바꿈 설정\n",
    "format_center.set_align('center')   # 가운데 정렬\n",
    "format_center.set_align('vcenter')\n",
    "\n",
    "worksheet.set_column('A:A', 5)  # 열과 열의 넓이\n",
    "worksheet.set_column('B:B', 90, format_center)  # 위에서 설정한 옵션(format_center)을 적용\n",
    "worksheet.set_column('C:C', 40, format_center)\n",
    "worksheet.set_column('D:D', 15)\n",
    "\n",
    "writer.save()\n",
    "print('---save done---')"
   ]
  }
 ],
 "metadata": {
  "interpreter": {
   "hash": "fdd75c4cec139db88207ac7c4293bdcbae3543546183bc362ebf9b62ac7e89fe"
  },
  "kernelspec": {
   "display_name": "Python 3.8.5 64-bit ('chch': conda)",
   "language": "python",
   "name": "python3"
  },
  "language_info": {
   "codemirror_mode": {
    "name": "ipython",
    "version": 3
   },
   "file_extension": ".py",
   "mimetype": "text/x-python",
   "name": "python",
   "nbconvert_exporter": "python",
   "pygments_lexer": "ipython3",
   "version": "3.8.5"
  },
  "orig_nbformat": 4
 },
 "nbformat": 4,
 "nbformat_minor": 2
}
