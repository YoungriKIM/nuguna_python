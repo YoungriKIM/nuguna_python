{
 "cells": [
  {
   "cell_type": "code",
   "execution_count": 1,
   "metadata": {},
   "outputs": [],
   "source": [
    "# 이번 검색 결과는 검색 결과 출력 건수, 시작 위치, 종류 등을 선택 할 수 있으니 url을 더 디테일하게 만들어주어야 한다."
   ]
  },
  {
   "cell_type": "code",
   "execution_count": 25,
   "metadata": {},
   "outputs": [],
   "source": [
    "import urllib.request\n",
    "import json\n",
    "import pandas as pd"
   ]
  },
  {
   "cell_type": "code",
   "execution_count": 13,
   "metadata": {},
   "outputs": [],
   "source": [
    "book_url = 'https://openapi.naver.com/v1/search/book.json'\n",
    "url_base = 'https://openapi.naver.com/v1/search'"
   ]
  },
  {
   "cell_type": "code",
   "execution_count": 14,
   "metadata": {},
   "outputs": [],
   "source": [
    "# 사용할 함수를 만들자\n",
    "def create_url(api_node, search_text, start_num, disp_num):\n",
    "    base = url_base\n",
    "    node = '/' + api_node + '.json'\n",
    "    param_query = '?query=' + urllib.parse.quote(search_text)\n",
    "    param_start = '&start=' + str(start_num)\n",
    "    param_disp = '&display=' + str(disp_num)\n",
    "    \n",
    "    return base + node + param_query + param_start + param_disp"
   ]
  },
  {
   "cell_type": "code",
   "execution_count": 15,
   "metadata": {},
   "outputs": [
    {
     "data": {
      "text/plain": [
       "'https://openapi.naver.com/v1/search/book.json?query=TEST&start=1&display=10'"
      ]
     },
     "execution_count": 15,
     "metadata": {},
     "output_type": "execute_result"
    }
   ],
   "source": [
    "create_url('book', 'TEST', 1, 10)"
   ]
  },
  {
   "cell_type": "code",
   "execution_count": 16,
   "metadata": {},
   "outputs": [
    {
     "data": {
      "text/plain": [
       "{'lastBuildDate': 'Fri, 24 Dec 2021 19:50:24 +0900',\n",
       " 'total': 1428,\n",
       " 'start': 1,\n",
       " 'display': 3,\n",
       " 'items': [{'title': '이것이 취업을 위한 코딩 테스트다 with <b>파이썬</b> (취업과 이직을 결정하는 알고리즘 인터뷰 완벽 가이드)',\n",
       "   'link': 'http://book.naver.com/bookdb/book_detail.php?bid=16439154',\n",
       "   'image': 'https://bookthumb-phinf.pstatic.net/cover/164/391/16439154.jpg?type=m1&udate=20200928',\n",
       "   'author': '나동빈',\n",
       "   'price': '34000',\n",
       "   'discount': '30600',\n",
       "   'publisher': '한빛미디어',\n",
       "   'pubdate': '20200805',\n",
       "   'isbn': '1162243074 9791162243077',\n",
       "   'description': '8가지 핵심 알고리즘 이론을 쉽게 설명하고, 관련 실전 문제를 풀이했다. 출제 유형 분석, 이론 설명, 기출문제 풀이까지! 어떤 코딩 테스트도 이 책 한 권으로 대비할 수 있을 것이다. 코딩 테스트에서 주로 선택하는 <b>파이썬</b>을 기반으로 설명되어 있으며, <b>파이썬</b> 코드 외에도 C/C++, 자바 코드를 추가로 제공한다.'},\n",
       "  {'title': '혼자 공부하는 <b>파이썬</b> (<b>파이썬</b> 최신 버전 반영)',\n",
       "   'link': 'http://book.naver.com/bookdb/book_detail.php?bid=15028688',\n",
       "   'image': 'https://bookthumb-phinf.pstatic.net/cover/150/286/15028688.jpg?type=m1&udate=20211206',\n",
       "   'author': '윤인성',\n",
       "   'price': '18000',\n",
       "   'discount': '16200',\n",
       "   'publisher': '한빛미디어',\n",
       "   'pubdate': '20190610',\n",
       "   'isbn': '1162241888 9791162241882',\n",
       "   'description': '1:1 과외하듯 배우는 <b>파이썬</b> 프로그래밍 자습서(<b>파이썬</b> 최신 버전 반영)\\n27명의 베타리더 검증으로, ‘함께 만든’ 입문자 맞춤형 도서\\n\\n이 책은 독학으로 프로그래밍 언어를 처음 배우려는 입문자가, 혹은 <b>파이썬</b>을 배우려는 입문자가 ‘꼭 필요한 내용을 제대로’ 학습할 수 있도록 구성했다. ‘무엇을’... '},\n",
       "  {'title': 'Do it! 점프 투 <b>파이썬</b>',\n",
       "   'link': 'http://book.naver.com/bookdb/book_detail.php?bid=15052904',\n",
       "   'image': 'https://bookthumb-phinf.pstatic.net/cover/150/529/15052904.jpg?type=m1&udate=20200910',\n",
       "   'author': '박응용',\n",
       "   'price': '18800',\n",
       "   'discount': '16900',\n",
       "   'publisher': '이지스퍼블리싱',\n",
       "   'pubdate': '20190620',\n",
       "   'isbn': '1163030910 9791163030911',\n",
       "   'description': '<b>파이썬</b> 4년 연속 베스트셀러 1위!\\n《DO IT! 점프 투 <b>파이썬</b>》 전면 개정판 출시!문과생도 중고등학생도 직장인도 프로그래밍에 눈뜨게 만든 바로 그 책이... 점프 투 <b>파이썬</b>》으로 출간되었던 이 책은 약 4년 동안의 피드백을 반영하여 초보자가 더 빠르게 입문하고, 더 깊이 있게 공부할 수 있도록 개정되었다.... '}]}"
      ]
     },
     "execution_count": 16,
     "metadata": {},
     "output_type": "execute_result"
    }
   ],
   "source": [
    "# 실제로 사용할 준비를 하자\n",
    "\n",
    "client_id = 'z_wzqr407Cxx_3A_6TjA'\n",
    "client_secret = 'cqZ20xcmGW'\n",
    "\n",
    "url = create_url('book', '파이썬', 1, 3)    # 1부터 3개까지만 표시해라\n",
    "\n",
    "# 만들어진 url을 쏘기\n",
    "request = urllib.request.Request(url)\n",
    "request.add_header('X-Naver-Client-Id', client_id)\n",
    "request.add_header('X-Naver-Client-Secret', client_secret)\n",
    "\n",
    "response = urllib.request.urlopen(request)\n",
    "\n",
    "# 결과를 받아오자\n",
    "result = json.loads(response.read().decode('utf-8'))\n",
    "result"
   ]
  },
  {
   "cell_type": "code",
   "execution_count": 18,
   "metadata": {},
   "outputs": [
    {
     "data": {
      "text/plain": [
       "3"
      ]
     },
     "execution_count": 18,
     "metadata": {},
     "output_type": "execute_result"
    }
   ],
   "source": [
    "# 몇 건의 결과를 불러왔는가?\n",
    "result['display']"
   ]
  },
  {
   "cell_type": "code",
   "execution_count": 20,
   "metadata": {},
   "outputs": [
    {
     "data": {
      "text/plain": [
       "[{'title': '이것이 취업을 위한 코딩 테스트다 with <b>파이썬</b> (취업과 이직을 결정하는 알고리즘 인터뷰 완벽 가이드)',\n",
       "  'link': 'http://book.naver.com/bookdb/book_detail.php?bid=16439154',\n",
       "  'image': 'https://bookthumb-phinf.pstatic.net/cover/164/391/16439154.jpg?type=m1&udate=20200928',\n",
       "  'author': '나동빈',\n",
       "  'price': '34000',\n",
       "  'discount': '30600',\n",
       "  'publisher': '한빛미디어',\n",
       "  'pubdate': '20200805',\n",
       "  'isbn': '1162243074 9791162243077',\n",
       "  'description': '8가지 핵심 알고리즘 이론을 쉽게 설명하고, 관련 실전 문제를 풀이했다. 출제 유형 분석, 이론 설명, 기출문제 풀이까지! 어떤 코딩 테스트도 이 책 한 권으로 대비할 수 있을 것이다. 코딩 테스트에서 주로 선택하는 <b>파이썬</b>을 기반으로 설명되어 있으며, <b>파이썬</b> 코드 외에도 C/C++, 자바 코드를 추가로 제공한다.'},\n",
       " {'title': '혼자 공부하는 <b>파이썬</b> (<b>파이썬</b> 최신 버전 반영)',\n",
       "  'link': 'http://book.naver.com/bookdb/book_detail.php?bid=15028688',\n",
       "  'image': 'https://bookthumb-phinf.pstatic.net/cover/150/286/15028688.jpg?type=m1&udate=20211206',\n",
       "  'author': '윤인성',\n",
       "  'price': '18000',\n",
       "  'discount': '16200',\n",
       "  'publisher': '한빛미디어',\n",
       "  'pubdate': '20190610',\n",
       "  'isbn': '1162241888 9791162241882',\n",
       "  'description': '1:1 과외하듯 배우는 <b>파이썬</b> 프로그래밍 자습서(<b>파이썬</b> 최신 버전 반영)\\n27명의 베타리더 검증으로, ‘함께 만든’ 입문자 맞춤형 도서\\n\\n이 책은 독학으로 프로그래밍 언어를 처음 배우려는 입문자가, 혹은 <b>파이썬</b>을 배우려는 입문자가 ‘꼭 필요한 내용을 제대로’ 학습할 수 있도록 구성했다. ‘무엇을’... '},\n",
       " {'title': 'Do it! 점프 투 <b>파이썬</b>',\n",
       "  'link': 'http://book.naver.com/bookdb/book_detail.php?bid=15052904',\n",
       "  'image': 'https://bookthumb-phinf.pstatic.net/cover/150/529/15052904.jpg?type=m1&udate=20200910',\n",
       "  'author': '박응용',\n",
       "  'price': '18800',\n",
       "  'discount': '16900',\n",
       "  'publisher': '이지스퍼블리싱',\n",
       "  'pubdate': '20190620',\n",
       "  'isbn': '1163030910 9791163030911',\n",
       "  'description': '<b>파이썬</b> 4년 연속 베스트셀러 1위!\\n《DO IT! 점프 투 <b>파이썬</b>》 전면 개정판 출시!문과생도 중고등학생도 직장인도 프로그래밍에 눈뜨게 만든 바로 그 책이... 점프 투 <b>파이썬</b>》으로 출간되었던 이 책은 약 4년 동안의 피드백을 반영하여 초보자가 더 빠르게 입문하고, 더 깊이 있게 공부할 수 있도록 개정되었다.... '}]"
      ]
     },
     "execution_count": 20,
     "metadata": {},
     "output_type": "execute_result"
    }
   ],
   "source": [
    "# 실제 검색 결과를 확인해보자\n",
    "result['items']"
   ]
  },
  {
   "cell_type": "code",
   "execution_count": 22,
   "metadata": {},
   "outputs": [
    {
     "data": {
      "text/plain": [
       "['이것이 취업을 위한 코딩 테스트다 with <b>파이썬</b> (취업과 이직을 결정하는 알고리즘 인터뷰 완벽 가이드)',\n",
       " '혼자 공부하는 <b>파이썬</b> (<b>파이썬</b> 최신 버전 반영)',\n",
       " 'Do it! 점프 투 <b>파이썬</b>']"
      ]
     },
     "execution_count": 22,
     "metadata": {},
     "output_type": "execute_result"
    }
   ],
   "source": [
    "# 검색 결과에서 제목만 알고싶다면?\n",
    "titles = [result['items'][n]['title'] for n in range(3)]\n",
    "titles"
   ]
  },
  {
   "cell_type": "code",
   "execution_count": 24,
   "metadata": {},
   "outputs": [
    {
     "name": "stdout",
     "output_type": "stream",
     "text": [
      "['나동빈', '윤인성', '박응용']\n",
      "['20200805', '20190610', '20190620']\n"
     ]
    }
   ],
   "source": [
    "# 작가, 출판일 정보까지 가져오자\n",
    "authors = [result['items'][n]['author'] for n in range(3)]\n",
    "print(authors)\n",
    "pubdates = [result['items'][n]['pubdate'] for n in range(3)]\n",
    "print(pubdates)"
   ]
  },
  {
   "cell_type": "code",
   "execution_count": 26,
   "metadata": {},
   "outputs": [
    {
     "data": {
      "text/html": [
       "<div>\n",
       "<style scoped>\n",
       "    .dataframe tbody tr th:only-of-type {\n",
       "        vertical-align: middle;\n",
       "    }\n",
       "\n",
       "    .dataframe tbody tr th {\n",
       "        vertical-align: top;\n",
       "    }\n",
       "\n",
       "    .dataframe thead th {\n",
       "        text-align: right;\n",
       "    }\n",
       "</style>\n",
       "<table border=\"1\" class=\"dataframe\">\n",
       "  <thead>\n",
       "    <tr style=\"text-align: right;\">\n",
       "      <th></th>\n",
       "      <th>책제목</th>\n",
       "      <th>작가</th>\n",
       "      <th>출판일</th>\n",
       "    </tr>\n",
       "  </thead>\n",
       "  <tbody>\n",
       "    <tr>\n",
       "      <th>0</th>\n",
       "      <td>이것이 취업을 위한 코딩 테스트다 with &lt;b&gt;파이썬&lt;/b&gt; (취업과 이직을 결정...</td>\n",
       "      <td>나동빈</td>\n",
       "      <td>20200805</td>\n",
       "    </tr>\n",
       "    <tr>\n",
       "      <th>1</th>\n",
       "      <td>혼자 공부하는 &lt;b&gt;파이썬&lt;/b&gt; (&lt;b&gt;파이썬&lt;/b&gt; 최신 버전 반영)</td>\n",
       "      <td>윤인성</td>\n",
       "      <td>20190610</td>\n",
       "    </tr>\n",
       "    <tr>\n",
       "      <th>2</th>\n",
       "      <td>Do it! 점프 투 &lt;b&gt;파이썬&lt;/b&gt;</td>\n",
       "      <td>박응용</td>\n",
       "      <td>20190620</td>\n",
       "    </tr>\n",
       "  </tbody>\n",
       "</table>\n",
       "</div>"
      ],
      "text/plain": [
       "                                                 책제목   작가       출판일\n",
       "0  이것이 취업을 위한 코딩 테스트다 with <b>파이썬</b> (취업과 이직을 결정...  나동빈  20200805\n",
       "1           혼자 공부하는 <b>파이썬</b> (<b>파이썬</b> 최신 버전 반영)  윤인성  20190610\n",
       "2                             Do it! 점프 투 <b>파이썬</b>  박응용  20190620"
      ]
     },
     "execution_count": 26,
     "metadata": {},
     "output_type": "execute_result"
    }
   ],
   "source": [
    "# 판다스로 dataframe 으로 만들자\n",
    "\n",
    "pd.DataFrame({'책제목':titles, '작가':authors, '출판일':pubdates})"
   ]
  }
 ],
 "metadata": {
  "interpreter": {
   "hash": "fdd75c4cec139db88207ac7c4293bdcbae3543546183bc362ebf9b62ac7e89fe"
  },
  "kernelspec": {
   "display_name": "Python 3.8.5 64-bit ('chch': conda)",
   "language": "python",
   "name": "python3"
  },
  "language_info": {
   "codemirror_mode": {
    "name": "ipython",
    "version": 3
   },
   "file_extension": ".py",
   "mimetype": "text/x-python",
   "name": "python",
   "nbconvert_exporter": "python",
   "pygments_lexer": "ipython3",
   "version": "3.8.5"
  },
  "orig_nbformat": 4
 },
 "nbformat": 4,
 "nbformat_minor": 2
}
