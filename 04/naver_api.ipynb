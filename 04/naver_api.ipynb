{
 "cells": [
  {
   "cell_type": "code",
   "execution_count": 2,
   "metadata": {},
   "outputs": [],
   "source": [
    "import urllib.request\n",
    "client_id = 'z_wzqr407Cxx_3A_6TjA'\n",
    "client_secret = 'cqZ20xcmGW'"
   ]
  },
  {
   "cell_type": "code",
   "execution_count": 22,
   "metadata": {},
   "outputs": [],
   "source": [
    "# 영어 한국어 구분 없이 utf-8로 인코딩 해주는 부분\n",
    "encText = urllib.parse.quote('몽몽스튜디오') # 검색어 입력\n",
    "# 쿼리 뒤의 키워드로 검색한 결과를 반환하는 명령\n",
    "url = 'https://openapi.naver.com/v1/search/blog.json?query=' + encText"
   ]
  },
  {
   "cell_type": "code",
   "execution_count": 23,
   "metadata": {},
   "outputs": [],
   "source": [
    "# 위에서 만든 명령을 이용해서 응답을 얻어오기\n",
    "request = urllib.request.Request(url)\n",
    "# id/secret 정보를 header에 포함해서 보내면 인증과정도 지나게 된다\n",
    "request.add_header('X-Naver-Client-Id', client_id)\n",
    "request.add_header('X-Naver-Client-Secret', client_secret)"
   ]
  },
  {
   "cell_type": "code",
   "execution_count": 24,
   "metadata": {},
   "outputs": [
    {
     "name": "stdout",
     "output_type": "stream",
     "text": [
      "200\n"
     ]
    }
   ],
   "source": [
    "# 결과를 response에 저장하여 확인하자\n",
    "response = urllib.request.urlopen(request)\n",
    "# .getcode()를 호출하면 현재 상태를 코드로 알려준다\n",
    "print(response.getcode())"
   ]
  },
  {
   "cell_type": "code",
   "execution_count": 25,
   "metadata": {},
   "outputs": [
    {
     "data": {
      "text/plain": [
       "http.client.HTTPResponse"
      ]
     },
     "execution_count": 25,
     "metadata": {},
     "output_type": "execute_result"
    }
   ],
   "source": [
    "# 타입 확인\n",
    "type(response)"
   ]
  },
  {
   "cell_type": "code",
   "execution_count": 26,
   "metadata": {},
   "outputs": [
    {
     "name": "stdout",
     "output_type": "stream",
     "text": [
      "{\n",
      "\"lastBuildDate\": \"Mon, 20 Dec 2021 23:24:46 +0900\",\n",
      "\"total\": 496,\n",
      "\"start\": 1,\n",
      "\"display\": 10,\n",
      "\"items\": [\n",
      "{\n",
      "\"title\": \"OGQ 스티커(이모티콘) 등록하기_맘뮤는 똥강아지 [<b>몽몽스튜디오</b>]\",\n",
      "\"link\": \"https:\\/\\/blog.naver.com\\/hannaurora?Redirect=Log&logNo=222086878852\",\n",
      "\"description\": \"그럼 여기까지...ㅋㅋㅋㅋㅋㅋㅋㅋㅋ 다음에 또 다른 맘뮤스토리 혹은 캐릭터 디자인을 한다면 바로 달려오겠습니다~ 몽바~(<b>몽몽스튜디오</b> 바이라는 뜻) Design by_몽몽(夢䀄)스튜디오 *본 저작물에 대하여... \",\n",
      "\"bloggername\": \"6시 내 교양\",\n",
      "\"bloggerlink\": \"https://blog.naver.com/hannaurora\",\n",
      "\"postdate\": \"20200911\"\n",
      "\n",
      "},\n",
      "{\n",
      "\"title\": \"냠 <b>몽몽</b>쿠킹<b>스튜디오</b>/미니카롱/꼬마 마카롱\",\n",
      "\"link\": \"https:\\/\\/blog.naver.com\\/gamja2mo?Redirect=Log&logNo=222343295662\",\n",
      "\"description\": \"미니 마카롱 냠 <b>몽몽</b> 쿠키<b>스튜디오</b> 가치삽시다에서 주문한 미니카롱입니다 30개 만원+무료배송 #가치삽시다 기획전 하루 특가로 구입했어용 득템 구성 감사합니다 실물은 엄청 귀여워요 뽀또 아시죠? 치맛... \",\n",
      "\"bloggername\": \"#감자이모건어물가게 남광주시장점&1913송정시장점\",\n",
      "\"bloggerlink\": \"https://blog.naver.com/gamja2mo\",\n",
      "\"postdate\": \"20210509\"\n",
      "\n",
      "},\n",
      "{\n",
      "\"title\": \"그대의왈츠,피쿤스냅, 포토로션, 우픽스냅, 약지포토, <b>몽몽</b>스냅)\",\n",
      "\"link\": \"https:\\/\\/blog.naver.com\\/jhy4211?Redirect=Log&logNo=222557286763\",\n",
      "\"description\": \"웨딩홀을 정한뒤 스드메중 <b>스튜디오</b>를 제주도에서 찍는 것도 이쁜거같아 예랑이와 함께... 블로그 <b>몽몽</b>스냅 인스타를 뒤지고 뒤져 찾게된 곳이에요 예랑이의 말을 빌리면 헤리츠컨벤션 처럼... \",\n",
      "\"bloggername\": \":::기록장:::\",\n",
      "\"bloggerlink\": \"https://blog.naver.com/jhy4211\",\n",
      "\"postdate\": \"20211103\"\n",
      "\n",
      "},\n",
      "{\n",
      "\"title\": \"<b>스튜디오</b> 300(STUDIO 300) : 캐주얼 철판볶음요리 by <b>몽몽</b>의... \",\n",
      "\"link\": \"https:\\/\\/blog.naver.com\\/kizaki56?Redirect=Log&logNo=220727523330\",\n",
      "\"description\": \"[파미에스테이션 맛집]<b>스튜디오</b> 300(STUDIO 300) : 캐주얼 철판볶음요리 by <b>몽몽</b>의 블로그 안녕하세요 <b>몽몽</b>이에요 간만에 또 반포 파미에스테이션의 맛집 포스팅입니다. 파미에스테이션만의 매력도 있지만 저의... \",\n",
      "\"bloggername\": \"몽몽의 먹어야 사는 블로그\",\n",
      "\"bloggerlink\": \"https://blog.naver.com/kizaki56\",\n",
      "\"postdate\": \"20160921\"\n",
      "\n",
      "},\n",
      "{\n",
      "\"title\": \"[<b>몽몽</b>부부세계여행] 미국... 유니버설 <b>스튜디오</b> 플로리다... \",\n",
      "\"link\": \"https:\\/\\/blog.naver.com\\/dwarfs124?Redirect=Log&logNo=221697443188\",\n",
      "\"description\": \"24(수) #부부세계여행 #<b>몽몽</b>부부두리몽실세계여행 #<b>몽몽</b>부부세계여행 #세계여행 422일차 #북미여행... 유니버설 <b>스튜디오</b>가 판권을 가진 작품들을 배경으로 만들었다. 심슨, 슈렉, 미니언즈부터 미이라... \",\n",
      "\"bloggername\": \"몽몽부부의 두리몽실 세계여행\",\n",
      "\"bloggerlink\": \"https://blog.naver.com/dwarfs124\",\n",
      "\"postdate\": \"20191105\"\n",
      "\n",
      "},\n",
      "{\n",
      "\"title\": \"장유 애견미용 , 율하 반려견미용 넘나 만족스러운 살롱드<b>몽몽</b>... \",\n",
      "\"link\": \"https:\\/\\/blog.naver.com\\/zzang_ari?Redirect=Log&logNo=222180896153\",\n",
      "\"description\": \"찾아보다가 #살롱드<b>몽몽</b> 을 발견했다. 위치는 여기! 율하카페거리 맞은편 도로변이다. 네이버로... 전문 <b>스튜디오</b>는 아니지만 미용하고 난 아가들은 저기 프롬포터 내려서 예쁘게 사진 찍어주시는듯! 우리홍시도... \",\n",
      "\"bloggername\": \"짱아리 일상블로그:)\",\n",
      "\"bloggerlink\": \"https://blog.naver.com/zzang_ari\",\n",
      "\"postdate\": \"20201222\"\n",
      "\n",
      "},\n",
      "{\n",
      "\"title\": \"애견동반이 가능한 전포동디저트카페 [잇츠<b>몽몽</b>]\",\n",
      "\"link\": \"https:\\/\\/blog.naver.com\\/hyjaes2?Redirect=Log&logNo=222417659470\",\n",
      "\"description\": \"셀프 애견 <b>스튜디오</b>처럼 활용하셔도 좋겠더라구요~ 게다가 보통 애견동반카페라하면 정말 '동반'만 가능한 곳이 많은데 잇츠<b>몽몽</b>에서는 간식도 정말 다양하게 준비되어 있답니다~ 처음 3층으로 올라갔을 땐... \",\n",
      "\"bloggername\": \"uu__j\",\n",
      "\"bloggerlink\": \"https://blog.naver.com/hyjaes2\",\n",
      "\"postdate\": \"20210702\"\n",
      "\n",
      "},\n",
      "{\n",
      "\"title\": \"[<b>몽몽</b>일상] LA 유니버셜<b>스튜디오</b> 유니콘 인형 선물받음!!... \",\n",
      "\"link\": \"https:\\/\\/blog.naver.com\\/journeymong?Redirect=Log&logNo=221332484189\",\n",
      "\"description\": \"동생이 보내준 LA 유니버셜 <b>스튜디오</b> 사진 사진만 봐도 우리가 그동안 가봤던 오사카 / 싱가폴 유니버셜이랑은 규모가 달라보인다. 동생이 사진 않았다는 엄청나게 큰 유니콘 인형. 털 북실북실 한걸 보니... \",\n",
      "\"bloggername\": \"Willbealovelyday\",\n",
      "\"bloggerlink\": \"https://blog.naver.com/journeymong\",\n",
      "\"postdate\": \"20180804\"\n",
      "\n",
      "},\n",
      "{\n",
      "\"title\": \"애견<b>스튜디오</b>_반려동물<b>스튜디오</b>_포메라니안_<b>몽몽</b>\",\n",
      "\"link\": \"https:\\/\\/blog.naver.com\\/lsb1933?Redirect=Log&logNo=221034292219\",\n",
      "\"description\": \"오늘의 포스팅은 포메라니안 <b>몽몽</b>입니다. 포메라니안은 북극에서 썰매를 끌던 개의 후손인데요. 생김새 보아하니..증명이 되네요.^^ 포메라니안종의 강아지는 풍성한 털이 특징이라고 하는데요. 역시 <b>몽몽</b>이도... \",\n",
      "\"bloggername\": \"베이비삭 스튜디오\",\n",
      "\"bloggerlink\": \"https://blog.naver.com/lsb1933\",\n",
      "\"postdate\": \"20170622\"\n",
      "\n",
      "},\n",
      "{\n",
      "\"title\": \"결혼 1주년 리마인드웨딩촬영 제주스냅 거제스냅 비교 (<b>몽몽</b>스... \",\n",
      "\"link\": \"https:\\/\\/blog.naver.com\\/dusrud92?Redirect=Log&logNo=222063010109\",\n",
      "\"description\": \"준비를 하려고 보니 아직 내년인데 많은 <b>스튜디오</b>와 스냅업체들이 예약을 시작했다,, 결혼준비는... <b>몽몽</b>스냅 인스타 @mongmong_snap_studio 같은 제주 바다인데,, 제주 노을 정말 끝장!!! 망고도 함께 찍어주셨어요... \",\n",
      "\"bloggername\": \"lee yu couple and mangoꨄ\",\n",
      "\"bloggerlink\": \"https://blog.naver.com/dusrud92\",\n",
      "\"postdate\": \"20200817\"\n",
      "\n",
      "}\n",
      "]\n",
      "}\n",
      "\n"
     ]
    }
   ],
   "source": [
    "# .read() 를 이용해 결과를 읽고. 한글을 해석하기 위해 decode 옵션을 utf-8로 설정하자\n",
    "print(response.read().decode('utf-8'))"
   ]
  },
  {
   "cell_type": "code",
   "execution_count": null,
   "metadata": {},
   "outputs": [],
   "source": []
  }
 ],
 "metadata": {
  "interpreter": {
   "hash": "fdd75c4cec139db88207ac7c4293bdcbae3543546183bc362ebf9b62ac7e89fe"
  },
  "kernelspec": {
   "display_name": "Python 3.8.5 64-bit ('chch': conda)",
   "language": "python",
   "name": "python3"
  },
  "language_info": {
   "codemirror_mode": {
    "name": "ipython",
    "version": 3
   },
   "file_extension": ".py",
   "mimetype": "text/x-python",
   "name": "python",
   "nbconvert_exporter": "python",
   "pygments_lexer": "ipython3",
   "version": "3.8.5"
  },
  "orig_nbformat": 4
 },
 "nbformat": 4,
 "nbformat_minor": 2
}
