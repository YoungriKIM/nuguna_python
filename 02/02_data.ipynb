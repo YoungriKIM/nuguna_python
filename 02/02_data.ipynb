{
 "cells": [
  {
   "cell_type": "code",
   "execution_count": null,
   "source": [
    "# 데이터를 확보하자\r\n",
    "# 서울열린데이터광장: https://data.seoul.go.kr/\r\n",
    "\r\n",
    "# 에서 '서울시 청소년 정신건강 통계' 확보\r\n",
    "# /nuguna_data/ 에 저장"
   ],
   "outputs": [],
   "metadata": {}
  }
 ],
 "metadata": {
  "orig_nbformat": 4,
  "language_info": {
   "name": "python"
  }
 },
 "nbformat": 4,
 "nbformat_minor": 2
}