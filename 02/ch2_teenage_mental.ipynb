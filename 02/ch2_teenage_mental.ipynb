{
 "cells": [
  {
   "cell_type": "code",
   "execution_count": 2,
   "source": [
    "import pandas as pd\r\n",
    "import numpy as np"
   ],
   "outputs": [],
   "metadata": {}
  },
  {
   "cell_type": "code",
   "execution_count": 17,
   "source": [
    "col_names = ['스트레스', '스트레스남학생', '스트레스여학생', '우울감경험률', '우울감남학생', '우울감여학생', '자살생각율', '자살남학생', '자살여학생']\r\n",
    "raw_data = pd.read_excel('D:/nuguna_data/teenage_mental.xls'\r\n",
    "                        , header=1\r\n",
    "                        , usecols='C:K'\r\n",
    "                        , names = col_names)\r\n",
    "\r\n",
    "raw_data"
   ],
   "outputs": [
    {
     "output_type": "execute_result",
     "data": {
      "text/html": [
       "<div>\n",
       "<style scoped>\n",
       "    .dataframe tbody tr th:only-of-type {\n",
       "        vertical-align: middle;\n",
       "    }\n",
       "\n",
       "    .dataframe tbody tr th {\n",
       "        vertical-align: top;\n",
       "    }\n",
       "\n",
       "    .dataframe thead th {\n",
       "        text-align: right;\n",
       "    }\n",
       "</style>\n",
       "<table border=\"1\" class=\"dataframe\">\n",
       "  <thead>\n",
       "    <tr style=\"text-align: right;\">\n",
       "      <th></th>\n",
       "      <th>스트레스</th>\n",
       "      <th>스트레스남학생</th>\n",
       "      <th>스트레스여학생</th>\n",
       "      <th>우울감경험률</th>\n",
       "      <th>우울감남학생</th>\n",
       "      <th>우울감여학생</th>\n",
       "      <th>자살생각율</th>\n",
       "      <th>자살남학생</th>\n",
       "      <th>자살여학생</th>\n",
       "    </tr>\n",
       "  </thead>\n",
       "  <tbody>\n",
       "    <tr>\n",
       "      <th>0</th>\n",
       "      <td>35.1</td>\n",
       "      <td>29.8</td>\n",
       "      <td>40.8</td>\n",
       "      <td>25.4</td>\n",
       "      <td>21.2</td>\n",
       "      <td>29.9</td>\n",
       "      <td>11.2</td>\n",
       "      <td>8.8</td>\n",
       "      <td>13.8</td>\n",
       "    </tr>\n",
       "  </tbody>\n",
       "</table>\n",
       "</div>"
      ],
      "text/plain": [
       "   스트레스  스트레스남학생  스트레스여학생  우울감경험률  우울감남학생  우울감여학생  자살생각율  자살남학생  자살여학생\n",
       "0  35.1     29.8     40.8    25.4    21.2    29.9   11.2    8.8   13.8"
      ]
     },
     "metadata": {},
     "execution_count": 17
    }
   ],
   "metadata": {}
  },
  {
   "cell_type": "code",
   "execution_count": 21,
   "source": [
    "raw_data.loc[1] = 100. - raw_data.loc[0]\r\n",
    "raw_data"
   ],
   "outputs": [
    {
     "output_type": "execute_result",
     "data": {
      "text/html": [
       "<div>\n",
       "<style scoped>\n",
       "    .dataframe tbody tr th:only-of-type {\n",
       "        vertical-align: middle;\n",
       "    }\n",
       "\n",
       "    .dataframe tbody tr th {\n",
       "        vertical-align: top;\n",
       "    }\n",
       "\n",
       "    .dataframe thead th {\n",
       "        text-align: right;\n",
       "    }\n",
       "</style>\n",
       "<table border=\"1\" class=\"dataframe\">\n",
       "  <thead>\n",
       "    <tr style=\"text-align: right;\">\n",
       "      <th></th>\n",
       "      <th>스트레스</th>\n",
       "      <th>스트레스남학생</th>\n",
       "      <th>스트레스여학생</th>\n",
       "      <th>우울감경험률</th>\n",
       "      <th>우울감남학생</th>\n",
       "      <th>우울감여학생</th>\n",
       "      <th>자살생각율</th>\n",
       "      <th>자살남학생</th>\n",
       "      <th>자살여학생</th>\n",
       "    </tr>\n",
       "  </thead>\n",
       "  <tbody>\n",
       "    <tr>\n",
       "      <th>0</th>\n",
       "      <td>35.1</td>\n",
       "      <td>29.8</td>\n",
       "      <td>40.8</td>\n",
       "      <td>25.4</td>\n",
       "      <td>21.2</td>\n",
       "      <td>29.9</td>\n",
       "      <td>11.2</td>\n",
       "      <td>8.8</td>\n",
       "      <td>13.8</td>\n",
       "    </tr>\n",
       "    <tr>\n",
       "      <th>1</th>\n",
       "      <td>64.9</td>\n",
       "      <td>70.2</td>\n",
       "      <td>59.2</td>\n",
       "      <td>74.6</td>\n",
       "      <td>78.8</td>\n",
       "      <td>70.1</td>\n",
       "      <td>88.8</td>\n",
       "      <td>91.2</td>\n",
       "      <td>86.2</td>\n",
       "    </tr>\n",
       "  </tbody>\n",
       "</table>\n",
       "</div>"
      ],
      "text/plain": [
       "   스트레스  스트레스남학생  스트레스여학생  우울감경험률  우울감남학생  우울감여학생  자살생각율  자살남학생  자살여학생\n",
       "0  35.1     29.8     40.8    25.4    21.2    29.9   11.2    8.8   13.8\n",
       "1  64.9     70.2     59.2    74.6    78.8    70.1   88.8   91.2   86.2"
      ]
     },
     "metadata": {},
     "execution_count": 21
    }
   ],
   "metadata": {}
  },
  {
   "cell_type": "code",
   "execution_count": 26,
   "source": [
    "raw_data['응답'] = ['그렇다', '아니다']\r\n",
    "raw_data"
   ],
   "outputs": [
    {
     "output_type": "execute_result",
     "data": {
      "text/html": [
       "<div>\n",
       "<style scoped>\n",
       "    .dataframe tbody tr th:only-of-type {\n",
       "        vertical-align: middle;\n",
       "    }\n",
       "\n",
       "    .dataframe tbody tr th {\n",
       "        vertical-align: top;\n",
       "    }\n",
       "\n",
       "    .dataframe thead th {\n",
       "        text-align: right;\n",
       "    }\n",
       "</style>\n",
       "<table border=\"1\" class=\"dataframe\">\n",
       "  <thead>\n",
       "    <tr style=\"text-align: right;\">\n",
       "      <th></th>\n",
       "      <th>스트레스</th>\n",
       "      <th>스트레스남학생</th>\n",
       "      <th>스트레스여학생</th>\n",
       "      <th>우울감경험률</th>\n",
       "      <th>우울감남학생</th>\n",
       "      <th>우울감여학생</th>\n",
       "      <th>자살생각율</th>\n",
       "      <th>자살남학생</th>\n",
       "      <th>자살여학생</th>\n",
       "      <th>응답</th>\n",
       "    </tr>\n",
       "    <tr>\n",
       "      <th>응답</th>\n",
       "      <th></th>\n",
       "      <th></th>\n",
       "      <th></th>\n",
       "      <th></th>\n",
       "      <th></th>\n",
       "      <th></th>\n",
       "      <th></th>\n",
       "      <th></th>\n",
       "      <th></th>\n",
       "      <th></th>\n",
       "    </tr>\n",
       "  </thead>\n",
       "  <tbody>\n",
       "    <tr>\n",
       "      <th>그렇다</th>\n",
       "      <td>35.1</td>\n",
       "      <td>29.8</td>\n",
       "      <td>40.8</td>\n",
       "      <td>25.4</td>\n",
       "      <td>21.2</td>\n",
       "      <td>29.9</td>\n",
       "      <td>11.2</td>\n",
       "      <td>8.8</td>\n",
       "      <td>13.8</td>\n",
       "      <td>그렇다</td>\n",
       "    </tr>\n",
       "    <tr>\n",
       "      <th>아니다</th>\n",
       "      <td>64.9</td>\n",
       "      <td>70.2</td>\n",
       "      <td>59.2</td>\n",
       "      <td>74.6</td>\n",
       "      <td>78.8</td>\n",
       "      <td>70.1</td>\n",
       "      <td>88.8</td>\n",
       "      <td>91.2</td>\n",
       "      <td>86.2</td>\n",
       "      <td>아니다</td>\n",
       "    </tr>\n",
       "  </tbody>\n",
       "</table>\n",
       "</div>"
      ],
      "text/plain": [
       "     스트레스  스트레스남학생  스트레스여학생  우울감경험률  우울감남학생  우울감여학생  자살생각율  자살남학생  자살여학생   응답\n",
       "응답                                                                           \n",
       "그렇다  35.1     29.8     40.8    25.4    21.2    29.9   11.2    8.8   13.8  그렇다\n",
       "아니다  64.9     70.2     59.2    74.6    78.8    70.1   88.8   91.2   86.2  아니다"
      ]
     },
     "metadata": {},
     "execution_count": 26
    }
   ],
   "metadata": {}
  },
  {
   "cell_type": "code",
   "execution_count": 27,
   "source": [
    "# 응답 열을 새로운 index로 지정\r\n",
    "raw_data.set_index('응답', drop=True, inplace=True)\r\n",
    "raw_data"
   ],
   "outputs": [
    {
     "output_type": "execute_result",
     "data": {
      "text/html": [
       "<div>\n",
       "<style scoped>\n",
       "    .dataframe tbody tr th:only-of-type {\n",
       "        vertical-align: middle;\n",
       "    }\n",
       "\n",
       "    .dataframe tbody tr th {\n",
       "        vertical-align: top;\n",
       "    }\n",
       "\n",
       "    .dataframe thead th {\n",
       "        text-align: right;\n",
       "    }\n",
       "</style>\n",
       "<table border=\"1\" class=\"dataframe\">\n",
       "  <thead>\n",
       "    <tr style=\"text-align: right;\">\n",
       "      <th></th>\n",
       "      <th>스트레스</th>\n",
       "      <th>스트레스남학생</th>\n",
       "      <th>스트레스여학생</th>\n",
       "      <th>우울감경험률</th>\n",
       "      <th>우울감남학생</th>\n",
       "      <th>우울감여학생</th>\n",
       "      <th>자살생각율</th>\n",
       "      <th>자살남학생</th>\n",
       "      <th>자살여학생</th>\n",
       "    </tr>\n",
       "    <tr>\n",
       "      <th>응답</th>\n",
       "      <th></th>\n",
       "      <th></th>\n",
       "      <th></th>\n",
       "      <th></th>\n",
       "      <th></th>\n",
       "      <th></th>\n",
       "      <th></th>\n",
       "      <th></th>\n",
       "      <th></th>\n",
       "    </tr>\n",
       "  </thead>\n",
       "  <tbody>\n",
       "    <tr>\n",
       "      <th>그렇다</th>\n",
       "      <td>35.1</td>\n",
       "      <td>29.8</td>\n",
       "      <td>40.8</td>\n",
       "      <td>25.4</td>\n",
       "      <td>21.2</td>\n",
       "      <td>29.9</td>\n",
       "      <td>11.2</td>\n",
       "      <td>8.8</td>\n",
       "      <td>13.8</td>\n",
       "    </tr>\n",
       "    <tr>\n",
       "      <th>아니다</th>\n",
       "      <td>64.9</td>\n",
       "      <td>70.2</td>\n",
       "      <td>59.2</td>\n",
       "      <td>74.6</td>\n",
       "      <td>78.8</td>\n",
       "      <td>70.1</td>\n",
       "      <td>88.8</td>\n",
       "      <td>91.2</td>\n",
       "      <td>86.2</td>\n",
       "    </tr>\n",
       "  </tbody>\n",
       "</table>\n",
       "</div>"
      ],
      "text/plain": [
       "     스트레스  스트레스남학생  스트레스여학생  우울감경험률  우울감남학생  우울감여학생  자살생각율  자살남학생  자살여학생\n",
       "응답                                                                      \n",
       "그렇다  35.1     29.8     40.8    25.4    21.2    29.9   11.2    8.8   13.8\n",
       "아니다  64.9     70.2     59.2    74.6    78.8    70.1   88.8   91.2   86.2"
      ]
     },
     "metadata": {},
     "execution_count": 27
    }
   ],
   "metadata": {}
  },
  {
   "cell_type": "markdown",
   "source": [
    "### 시각화하기\r\n",
    "---"
   ],
   "metadata": {}
  },
  {
   "cell_type": "markdown",
   "source": [],
   "metadata": {}
  }
 ],
 "metadata": {
  "orig_nbformat": 4,
  "language_info": {
   "name": "python",
   "version": "3.8.5",
   "mimetype": "text/x-python",
   "codemirror_mode": {
    "name": "ipython",
    "version": 3
   },
   "pygments_lexer": "ipython3",
   "nbconvert_exporter": "python",
   "file_extension": ".py"
  },
  "kernelspec": {
   "name": "python3",
   "display_name": "Python 3.8.5 64-bit ('chch': conda)"
  },
  "interpreter": {
   "hash": "fdd75c4cec139db88207ac7c4293bdcbae3543546183bc362ebf9b62ac7e89fe"
  }
 },
 "nbformat": 4,
 "nbformat_minor": 2
}