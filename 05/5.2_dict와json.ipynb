{
 "cells": [
  {
   "cell_type": "code",
   "execution_count": null,
   "metadata": {},
   "outputs": [],
   "source": [
    "# json에 대해서 더 알아보자"
   ]
  },
  {
   "cell_type": "markdown",
   "metadata": {},
   "source": [
    "### 우선 dict에 대하여"
   ]
  },
  {
   "cell_type": "code",
   "execution_count": 2,
   "metadata": {},
   "outputs": [
    {
     "data": {
      "text/plain": [
       "{'Name': '김영리', 'Age': 'None', 'Class': ['programmer', 'challenger']}"
      ]
     },
     "execution_count": 2,
     "metadata": {},
     "output_type": "execute_result"
    }
   ],
   "source": [
    "dict_sample = {'Name':'김영리','Age':'None','Class':['programmer','challenger']}\n",
    "dict_sample"
   ]
  },
  {
   "cell_type": "code",
   "execution_count": 3,
   "metadata": {},
   "outputs": [
    {
     "data": {
      "text/plain": [
       "dict_keys(['Name', 'Age', 'Class'])"
      ]
     },
     "execution_count": 3,
     "metadata": {},
     "output_type": "execute_result"
    }
   ],
   "source": [
    "# key만 얻으려면\n",
    "dict_sample.keys()"
   ]
  },
  {
   "cell_type": "code",
   "execution_count": 6,
   "metadata": {},
   "outputs": [
    {
     "data": {
      "text/plain": [
       "dict_values(['김영리', 'None', ['programmer', 'challenger']])"
      ]
     },
     "execution_count": 6,
     "metadata": {},
     "output_type": "execute_result"
    }
   ],
   "source": [
    "# valus만 얻으려면\n",
    "dict_sample.values()"
   ]
  },
  {
   "cell_type": "code",
   "execution_count": 14,
   "metadata": {},
   "outputs": [
    {
     "data": {
      "text/plain": [
       "['programmer', 'challenger']"
      ]
     },
     "execution_count": 14,
     "metadata": {},
     "output_type": "execute_result"
    }
   ],
   "source": [
    "# Class 키의 정보만 가져올 때\n",
    "dict_sample['Class']"
   ]
  },
  {
   "cell_type": "code",
   "execution_count": 15,
   "metadata": {},
   "outputs": [
    {
     "data": {
      "text/plain": [
       "'김영리'"
      ]
     },
     "execution_count": 15,
     "metadata": {},
     "output_type": "execute_result"
    }
   ],
   "source": [
    "# get을 이용해 정보를 가져오기\n",
    "dict_sample.get('Name')"
   ]
  },
  {
   "cell_type": "code",
   "execution_count": 19,
   "metadata": {},
   "outputs": [
    {
     "name": "stdout",
     "output_type": "stream",
     "text": [
      "None\n",
      "nothing\n"
     ]
    }
   ],
   "source": [
    "# get을 이용해 가져올 때 그 정보가 없다면, 원하는 값을 대신 반환하도록 설정\n",
    "print(dict_sample.get('Age', 'nothing'))\n",
    "print(dict_sample.get('어림도없지', 'nothing'))"
   ]
  },
  {
   "cell_type": "markdown",
   "metadata": {},
   "source": [
    "### 이어서 json  \n",
    "JSON: java script object notation  \n",
    "웹서버와 클라이언트 간의 데이터 교환에 많이 사용됨  \n",
    "json의 구조는 python의 dict와 유사함  "
   ]
  },
  {
   "cell_type": "code",
   "execution_count": 1,
   "metadata": {},
   "outputs": [],
   "source": [
    "# dictionary로 우선 구조를 만들자\n",
    "\n",
    "customer = {\n",
    "    'id':'0001',\n",
    "    'name':'홍갈동',\n",
    "    'history':[\n",
    "        {'date':'2022-01-09', 'log':True},\n",
    "        {'date':'2022-03-11', 'log':False},\n",
    "    ]\n",
    "}"
   ]
  },
  {
   "cell_type": "code",
   "execution_count": 10,
   "metadata": {},
   "outputs": [
    {
     "name": "stdout",
     "output_type": "stream",
     "text": [
      "{\n",
      "    \"id\": \"0001\",\n",
      "    \"name\": \"홍갈동\",\n",
      "    \"history\": [\n",
      "        {\n",
      "            \"date\": \"2022-01-09\",\n",
      "            \"log\": true\n",
      "        },\n",
      "        {\n",
      "            \"date\": \"2022-03-11\",\n",
      "            \"log\": false\n",
      "        }\n",
      "    ]\n",
      "}\n"
     ]
    }
   ],
   "source": [
    "import json\n",
    "\n",
    "json_test = json.dumps(obj = customer\n",
    "                       , indent=4\n",
    "                       , ensure_ascii=False)\n",
    "\n",
    "print(json_test)"
   ]
  }
 ],
 "metadata": {
  "interpreter": {
   "hash": "fdd75c4cec139db88207ac7c4293bdcbae3543546183bc362ebf9b62ac7e89fe"
  },
  "kernelspec": {
   "display_name": "Python 3.8.5 64-bit ('chch': conda)",
   "language": "python",
   "name": "python3"
  },
  "language_info": {
   "codemirror_mode": {
    "name": "ipython",
    "version": 3
   },
   "file_extension": ".py",
   "mimetype": "text/x-python",
   "name": "python",
   "nbconvert_exporter": "python",
   "pygments_lexer": "ipython3",
   "version": "3.8.5"
  },
  "orig_nbformat": 4
 },
 "nbformat": 4,
 "nbformat_minor": 2
}
